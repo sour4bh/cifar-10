{
  "nbformat": 4,
  "nbformat_minor": 0,
  "metadata": {
    "colab": {
      "name": "cifar_10_2.ipynb",
      "provenance": [],
      "collapsed_sections": [],
      "mount_file_id": "1C0lRkyWgeBpXmCi0-osamgWyRAFm7iTv",
      "authorship_tag": "ABX9TyPa+riMqkSUsoSJE1Uvx7TU",
      "include_colab_link": true
    },
    "kernelspec": {
      "name": "python3",
      "display_name": "Python 3"
    },
    "accelerator": "GPU"
  },
  "cells": [
    {
      "cell_type": "markdown",
      "metadata": {
        "id": "view-in-github",
        "colab_type": "text"
      },
      "source": [
        "<a href=\"https://colab.research.google.com/github/sour4bh/cifar-10/blob/master/cifar_10_2.ipynb\" target=\"_parent\"><img src=\"https://colab.research.google.com/assets/colab-badge.svg\" alt=\"Open In Colab\"/></a>"
      ]
    },
    {
      "cell_type": "code",
      "metadata": {
        "id": "N5PsgMjt71GZ",
        "colab_type": "code",
        "outputId": "a591acfd-17e0-46ce-ba69-71b4b95c2a54",
        "colab": {
          "base_uri": "https://localhost:8080/",
          "height": 85
        }
      },
      "source": [
        "!git clone https://github.com/sour4bh/cifar-10\n",
        "!mv cifar-10/* .\n",
        "!mkdir logs epochs"
      ],
      "execution_count": 0,
      "outputs": [
        {
          "output_type": "stream",
          "text": [
            "fatal: destination path 'cifar-10' already exists and is not an empty directory.\n",
            "mv: cannot stat 'cifar-10/*': No such file or directory\n",
            "mkdir: cannot create directory ‘logs’: File exists\n",
            "mkdir: cannot create directory ‘epochs’: File exists\n"
          ],
          "name": "stdout"
        }
      ]
    },
    {
      "cell_type": "code",
      "metadata": {
        "id": "3U0dDAOO-hyi",
        "colab_type": "code",
        "outputId": "f93f5aa7-3ebb-4184-a770-b32e14b4dddd",
        "colab": {
          "base_uri": "https://localhost:8080/",
          "height": 139
        }
      },
      "source": [
        "from google.colab import drive\n",
        "drive.mount('/gdrive')\n",
        "%cd /gdrive"
      ],
      "execution_count": 0,
      "outputs": [
        {
          "output_type": "stream",
          "text": [
            "Go to this URL in a browser: https://accounts.google.com/o/oauth2/auth?client_id=947318989803-6bn6qk8qdgf4n4g3pfee6491hc0brc4i.apps.googleusercontent.com&redirect_uri=urn%3aietf%3awg%3aoauth%3a2.0%3aoob&response_type=code&scope=email%20https%3a%2f%2fwww.googleapis.com%2fauth%2fdocs.test%20https%3a%2f%2fwww.googleapis.com%2fauth%2fdrive%20https%3a%2f%2fwww.googleapis.com%2fauth%2fdrive.photos.readonly%20https%3a%2f%2fwww.googleapis.com%2fauth%2fpeopleapi.readonly\n",
            "\n",
            "Enter your authorization code:\n",
            "··········\n",
            "Mounted at /gdrive\n",
            "/gdrive\n"
          ],
          "name": "stdout"
        }
      ]
    },
    {
      "cell_type": "code",
      "metadata": {
        "id": "Lc2Msic07ze5",
        "colab_type": "code",
        "colab": {}
      },
      "source": [
        "# imports \n",
        "import os\n",
        "import numpy as np\n",
        "from tqdm import tqdm\n",
        "\n",
        "import torch\n",
        "import torch.nn as nn\n",
        "from torch.autograd import Variable\n",
        "import torch.backends.cudnn as cudnn\n",
        "from torch.optim.lr_scheduler import MultiStepLR\n",
        "\n",
        "from torchvision import datasets, transforms\n",
        "\n",
        "from cutout import Cutout\n",
        "from wide_resnet import WideResNet"
      ],
      "execution_count": 0,
      "outputs": []
    },
    {
      "cell_type": "code",
      "metadata": {
        "id": "vh_iuzB4NrOb",
        "colab_type": "code",
        "colab": {}
      },
      "source": [
        "# Control center\n",
        "\n",
        "num_classes = 10\n",
        "batch_size = 128\n",
        "epochs = 200\n",
        "seed = 0\n",
        "\n",
        "LR_MILESTONES = [40, 60, 80, 90, 150, 155] # step down lr milestones\n",
        "gamma = 0.2 #gamma for step lr 0.2 == 5x \n",
        "learning_rate = 0.1\n",
        "\n",
        "\n",
        "data_augmentation = True\n",
        "# cutout hyperparams\n",
        "n_holes = 1\n",
        "length = 16\n",
        "# model - wideresnet hyperparams\n",
        "depth = 28\n",
        "widen_factor = 10\n",
        "drop_rate = 0.3\n",
        "\n",
        "# recover training\n",
        "resume = True\n",
        "resume_checkpoint =  'cifar10_wideresent149.pt'\n"
      ],
      "execution_count": 0,
      "outputs": []
    },
    {
      "cell_type": "code",
      "metadata": {
        "id": "Xu4j8K5_Nxnu",
        "colab_type": "code",
        "colab": {}
      },
      "source": [
        "def save_this(epoch, test_acc, accuracy, model, optimizer, scheduler, on_drive=True):\n",
        "    checkpoint = {\n",
        "    'epoch': epoch,\n",
        "    'test_acc' : test_acc,\n",
        "    'train_acc' : accuracy,\n",
        "    'state_dict': model.state_dict(),\n",
        "    'optimizer': optimizer.state_dict(),    \n",
        "    'scheduler' : scheduler.state_dict()}\n",
        "    if on_drive:\n",
        "        # save checkpoints to google drive \n",
        "        torch.save(checkpoint, '/content/drive/My Drive/Colab Notebooks/checkpoints/' + test_id + f'{epoch}.pt')\n",
        "    else:\n",
        "        # save checkpoints to local \n",
        "        torch.save(checkpoint, 'epochs/' +  test_id +  f'{epoch}.pt')\n",
        "\n",
        "def test(loader):\n",
        "    model.eval()   \n",
        "    correct = 0.\n",
        "    total = 0.\n",
        "    for images, labels in loader:\n",
        "        images = images.cuda()\n",
        "        labels = labels.cuda()\n",
        "\n",
        "        with torch.no_grad():\n",
        "            pred = model(images)\n",
        "\n",
        "        pred = torch.max(pred.data, 1)[1]\n",
        "        total += labels.size(0)\n",
        "        correct += (pred == labels).sum().item()\n",
        "\n",
        "    val_acc = correct / total\n",
        "    model.train()\n",
        "    return val_acc\n"
      ],
      "execution_count": 0,
      "outputs": []
    },
    {
      "cell_type": "code",
      "metadata": {
        "id": "cqTurx_lN16U",
        "colab_type": "code",
        "outputId": "958025fe-df9b-4516-b156-77f644eae4b3",
        "colab": {
          "base_uri": "https://localhost:8080/",
          "height": 1000
        }
      },
      "source": [
        "cuda = True\n",
        "cudnn.benchmark = True \n",
        "torch.manual_seed(seed)\n",
        "if cuda:\n",
        "    torch.cuda.manual_seed(seed)\n",
        "\n",
        "test_id = 'cifar10_wideresent'\n",
        "\n",
        "normalize = transforms.Normalize(mean=[x / 255.0 for x in [125.3, 123.0, 113.9]],\n",
        "                                    std=[x / 255.0 for x in [63.0, 62.1, 66.7]])\n",
        "\n",
        "train_transform = transforms.Compose([])\n",
        "if data_augmentation:\n",
        "    train_transform.transforms.append(transforms.RandomCrop(32, padding=4))\n",
        "    train_transform.transforms.append(transforms.RandomHorizontalFlip())\n",
        "train_transform.transforms.append(transforms.ToTensor())\n",
        "train_transform.transforms.append(normalize)\n",
        "\n",
        "train_transform.transforms.append(Cutout(n_holes=n_holes, length=length)) # cutout augemntation \n",
        "\n",
        "test_transform = transforms.Compose([\n",
        "    transforms.ToTensor(),\n",
        "    normalize])\n",
        "\n",
        "train_dataset = datasets.CIFAR10(root='data/',\n",
        "                                    train=True,\n",
        "                                    transform=train_transform,\n",
        "                                    download=True)\n",
        "\n",
        "test_dataset = datasets.CIFAR10(root='data/',\n",
        "                                train=False,\n",
        "                                transform=test_transform,\n",
        "                                download=True)\n",
        "\n",
        "\n",
        "train_loader = torch.utils.data.DataLoader(dataset=train_dataset,\n",
        "                                        batch_size=batch_size,\n",
        "                                        shuffle=True,\n",
        "                                        pin_memory=True,\n",
        "                                        num_workers=2)\n",
        "\n",
        "test_loader = torch.utils.data.DataLoader(dataset=test_dataset,\n",
        "                                        batch_size=batch_size,\n",
        "                                        shuffle=False,\n",
        "                                        pin_memory=True,\n",
        "                                        num_workers=2)\n",
        "\n",
        "model = WideResNet(depth=depth, num_classes=num_classes, widen_factor=widen_factor, dropRate=drop_rate)\n",
        "model = model.cuda()\n",
        "criterion = nn.CrossEntropyLoss().cuda()\n",
        "optimizer = torch.optim.SGD(model.parameters(), lr=learning_rate, momentum=0.9, nesterov=True, weight_decay=0.0005)\n",
        "\n",
        "scheduler = MultiStepLR(optimizer, milestones=LR_MILESTONES, gamma=gamma)\n",
        "\n",
        "begin = -1\n",
        "try:\n",
        "    checkpoint_fpath =  resume_checkpoint\n",
        "    checkpoint = torch.load(checkpoint_fpath)\n",
        "    model.load_state_dict(checkpoint['state_dict'])\n",
        "    optimizer.load_state_dict(checkpoint['optimizer'])\n",
        "    begin = checkpoint['epoch']\n",
        "    scheduler = MultiStepLR(optimizer, milestones=LR_MILESTONES, gamma=gamma, last_epoch=begin)\n",
        "    # print('test_acc :', checkpoint['test_acc'], 'train_acc :', checkpoint['train_acc'])\n",
        "    # print('last_lr :', checkpoint['scheduler']['_last_lr'])\n",
        "    print('resuming from', checkpoint['epoch'])\n",
        "except FileNotFoundError:\n",
        "    print('starting over..')\n",
        "    pass\n",
        "\n",
        "best_acc = 0\n",
        "for epoch in range(epochs):\n",
        "    if epoch <= begin:\n",
        "        # scheduler.step()\n",
        "        continue\n",
        "    \n",
        "    xentropy_loss_avg = 0.\n",
        "    correct = 0.\n",
        "    total = 0.\n",
        "\n",
        "    progress_bar = tqdm(train_loader)\n",
        "    for i, (images, labels) in enumerate(progress_bar):\n",
        "        progress_bar.set_description('Epoch ' + str(epoch))\n",
        "\n",
        "        images = images.cuda()\n",
        "        labels = labels.cuda()\n",
        "\n",
        "        model.zero_grad()\n",
        "        pred = model(images)\n",
        "\n",
        "        xentropy_loss = criterion(pred, labels)\n",
        "        xentropy_loss.backward()\n",
        "        optimizer.step()\n",
        "\n",
        "        xentropy_loss_avg += xentropy_loss.item()\n",
        "\n",
        "        # Calculate running average of accuracy\n",
        "        pred = torch.max(pred.data, 1)[1]\n",
        "        total += labels.size(0)\n",
        "        correct += (pred == labels.data).sum().item()\n",
        "        accuracy = correct / total\n",
        "        _lr=optimizer.param_groups[0][\"lr\"]\n",
        "\n",
        "        progress_bar.set_postfix(\n",
        "            xentropy='%.3f' % (xentropy_loss_avg / (i + 1)),\n",
        "            acc='%.3f' %(accuracy),\n",
        "            lr='%.2E'%(_lr))\n",
        "\n",
        "    test_acc = test(test_loader)\n",
        "    tqdm.write('test_acc: %.3f' % (test_acc))\n",
        "\n",
        "    if test_acc > best_acc:\n",
        "        best_acc = test_acc\n",
        "        save_this(epoch, test_acc, accuracy, model, optimizer, scheduler, on_drive=False)\n",
        "    \n",
        "    if epoch % 10 == 0:\n",
        "        save_this(epoch, test_acc, accuracy, model, optimizer, scheduler, on_drive=True)\n",
        "    \n",
        "    _lr = optimizer.param_groups[0][\"lr\"]\n",
        "    with open('log.csv', 'a') as f:\n",
        "        f.write(f\"epoch: {str(epoch)}, train_acc: {str(accuracy)}, test_acc: {str(test_acc)}, lr:{'%.2E'%(_lr)}\" + '\\n')\n",
        "    \n",
        "    scheduler.step()\n",
        "    # end loop"
      ],
      "execution_count": 0,
      "outputs": [
        {
          "output_type": "stream",
          "text": [
            "Files already downloaded and verified\n",
            "Files already downloaded and verified\n"
          ],
          "name": "stdout"
        },
        {
          "output_type": "stream",
          "text": [
            "\r  0%|          | 0/391 [00:00<?, ?it/s]"
          ],
          "name": "stderr"
        },
        {
          "output_type": "stream",
          "text": [
            "resuming from 148\n"
          ],
          "name": "stdout"
        },
        {
          "output_type": "stream",
          "text": [
            "Epoch 149: 100%|██████████| 391/391 [04:36<00:00,  1.22s/it, acc=0.987, lr=8.00E-04, xentropy=0.040]\n"
          ],
          "name": "stderr"
        },
        {
          "output_type": "stream",
          "text": [
            "test_acc: 0.966\n"
          ],
          "name": "stdout"
        },
        {
          "output_type": "stream",
          "text": [
            "Epoch 150: 100%|██████████| 391/391 [04:33<00:00,  1.62it/s, acc=0.988, lr=1.60E-04, xentropy=0.039]\n"
          ],
          "name": "stderr"
        },
        {
          "output_type": "stream",
          "text": [
            "test_acc: 0.967\n"
          ],
          "name": "stdout"
        },
        {
          "output_type": "stream",
          "text": [
            "Epoch 151: 100%|██████████| 391/391 [04:33<00:00,  1.59it/s, acc=0.987, lr=1.60E-04, xentropy=0.039]\n"
          ],
          "name": "stderr"
        },
        {
          "output_type": "stream",
          "text": [
            "test_acc: 0.967\n"
          ],
          "name": "stdout"
        },
        {
          "output_type": "stream",
          "text": [
            "Epoch 152: 100%|██████████| 391/391 [04:33<00:00,  1.60it/s, acc=0.988, lr=1.60E-04, xentropy=0.039]\n"
          ],
          "name": "stderr"
        },
        {
          "output_type": "stream",
          "text": [
            "test_acc: 0.968\n"
          ],
          "name": "stdout"
        },
        {
          "output_type": "stream",
          "text": [
            "Epoch 153: 100%|██████████| 391/391 [04:33<00:00,  1.58it/s, acc=0.988, lr=1.60E-04, xentropy=0.037]\n",
            "  0%|          | 0/391 [00:00<?, ?it/s]"
          ],
          "name": "stderr"
        },
        {
          "output_type": "stream",
          "text": [
            "test_acc: 0.968\n"
          ],
          "name": "stdout"
        },
        {
          "output_type": "stream",
          "text": [
            "Epoch 154: 100%|██████████| 391/391 [04:33<00:00,  1.60it/s, acc=0.987, lr=1.60E-04, xentropy=0.038]\n",
            "  0%|          | 0/391 [00:00<?, ?it/s]"
          ],
          "name": "stderr"
        },
        {
          "output_type": "stream",
          "text": [
            "test_acc: 0.967\n"
          ],
          "name": "stdout"
        },
        {
          "output_type": "stream",
          "text": [
            "Epoch 155: 100%|██████████| 391/391 [04:33<00:00,  1.62it/s, acc=0.988, lr=3.20E-05, xentropy=0.035]\n",
            "  0%|          | 0/391 [00:00<?, ?it/s]"
          ],
          "name": "stderr"
        },
        {
          "output_type": "stream",
          "text": [
            "test_acc: 0.967\n"
          ],
          "name": "stdout"
        },
        {
          "output_type": "stream",
          "text": [
            "Epoch 156: 100%|██████████| 391/391 [04:33<00:00,  1.62it/s, acc=0.989, lr=3.20E-05, xentropy=0.034]\n",
            "  0%|          | 0/391 [00:00<?, ?it/s]"
          ],
          "name": "stderr"
        },
        {
          "output_type": "stream",
          "text": [
            "test_acc: 0.967\n"
          ],
          "name": "stdout"
        },
        {
          "output_type": "stream",
          "text": [
            "Epoch 157: 100%|██████████| 391/391 [04:34<00:00,  1.59it/s, acc=0.989, lr=3.20E-05, xentropy=0.035]\n",
            "  0%|          | 0/391 [00:00<?, ?it/s]"
          ],
          "name": "stderr"
        },
        {
          "output_type": "stream",
          "text": [
            "test_acc: 0.966\n"
          ],
          "name": "stdout"
        },
        {
          "output_type": "stream",
          "text": [
            "Epoch 158: 100%|██████████| 391/391 [04:33<00:00,  1.59it/s, acc=0.989, lr=3.20E-05, xentropy=0.033]\n",
            "  0%|          | 0/391 [00:00<?, ?it/s]"
          ],
          "name": "stderr"
        },
        {
          "output_type": "stream",
          "text": [
            "test_acc: 0.967\n"
          ],
          "name": "stdout"
        },
        {
          "output_type": "stream",
          "text": [
            "Epoch 159: 100%|██████████| 391/391 [04:34<00:00,  1.61it/s, acc=0.989, lr=3.20E-05, xentropy=0.033]\n"
          ],
          "name": "stderr"
        },
        {
          "output_type": "stream",
          "text": [
            "test_acc: 0.968\n"
          ],
          "name": "stdout"
        },
        {
          "output_type": "stream",
          "text": [
            "Epoch 160: 100%|██████████| 391/391 [04:34<00:00,  1.62it/s, acc=0.989, lr=3.20E-05, xentropy=0.033]\n"
          ],
          "name": "stderr"
        },
        {
          "output_type": "stream",
          "text": [
            "test_acc: 0.967\n"
          ],
          "name": "stdout"
        },
        {
          "output_type": "stream",
          "text": [
            "Epoch 161: 100%|██████████| 391/391 [04:33<00:00,  1.62it/s, acc=0.990, lr=3.20E-05, xentropy=0.033]\n",
            "  0%|          | 0/391 [00:00<?, ?it/s]"
          ],
          "name": "stderr"
        },
        {
          "output_type": "stream",
          "text": [
            "test_acc: 0.967\n"
          ],
          "name": "stdout"
        },
        {
          "output_type": "stream",
          "text": [
            "Epoch 162: 100%|██████████| 391/391 [04:33<00:00,  1.60it/s, acc=0.990, lr=3.20E-05, xentropy=0.032]\n",
            "  0%|          | 0/391 [00:00<?, ?it/s]"
          ],
          "name": "stderr"
        },
        {
          "output_type": "stream",
          "text": [
            "test_acc: 0.967\n"
          ],
          "name": "stdout"
        },
        {
          "output_type": "stream",
          "text": [
            "Epoch 163: 100%|██████████| 391/391 [04:34<00:00,  1.61it/s, acc=0.990, lr=3.20E-05, xentropy=0.033]\n",
            "  0%|          | 0/391 [00:00<?, ?it/s]"
          ],
          "name": "stderr"
        },
        {
          "output_type": "stream",
          "text": [
            "test_acc: 0.966\n"
          ],
          "name": "stdout"
        },
        {
          "output_type": "stream",
          "text": [
            "Epoch 164: 100%|██████████| 391/391 [04:33<00:00,  1.61it/s, acc=0.990, lr=3.20E-05, xentropy=0.031]\n",
            "  0%|          | 0/391 [00:00<?, ?it/s]"
          ],
          "name": "stderr"
        },
        {
          "output_type": "stream",
          "text": [
            "test_acc: 0.966\n"
          ],
          "name": "stdout"
        },
        {
          "output_type": "stream",
          "text": [
            "Epoch 165: 100%|██████████| 391/391 [04:34<00:00,  1.60it/s, acc=0.990, lr=3.20E-05, xentropy=0.030]\n",
            "  0%|          | 0/391 [00:00<?, ?it/s]"
          ],
          "name": "stderr"
        },
        {
          "output_type": "stream",
          "text": [
            "test_acc: 0.967\n"
          ],
          "name": "stdout"
        },
        {
          "output_type": "stream",
          "text": [
            "Epoch 166: 100%|██████████| 391/391 [04:33<00:00,  1.61it/s, acc=0.990, lr=3.20E-05, xentropy=0.031]\n",
            "  0%|          | 0/391 [00:00<?, ?it/s]"
          ],
          "name": "stderr"
        },
        {
          "output_type": "stream",
          "text": [
            "test_acc: 0.967\n"
          ],
          "name": "stdout"
        },
        {
          "output_type": "stream",
          "text": [
            "Epoch 167: 100%|██████████| 391/391 [04:33<00:00,  1.61it/s, acc=0.991, lr=3.20E-05, xentropy=0.030]\n",
            "  0%|          | 0/391 [00:00<?, ?it/s]"
          ],
          "name": "stderr"
        },
        {
          "output_type": "stream",
          "text": [
            "test_acc: 0.966\n"
          ],
          "name": "stdout"
        },
        {
          "output_type": "stream",
          "text": [
            "Epoch 168: 100%|██████████| 391/391 [04:33<00:00,  1.61it/s, acc=0.988, lr=3.20E-05, xentropy=0.036]\n",
            "  0%|          | 0/391 [00:00<?, ?it/s]"
          ],
          "name": "stderr"
        },
        {
          "output_type": "stream",
          "text": [
            "test_acc: 0.967\n"
          ],
          "name": "stdout"
        },
        {
          "output_type": "stream",
          "text": [
            "Epoch 169: 100%|██████████| 391/391 [04:34<00:00,  1.60it/s, acc=0.989, lr=3.20E-05, xentropy=0.033]\n",
            "  0%|          | 0/391 [00:00<?, ?it/s]"
          ],
          "name": "stderr"
        },
        {
          "output_type": "stream",
          "text": [
            "test_acc: 0.967\n"
          ],
          "name": "stdout"
        },
        {
          "output_type": "stream",
          "text": [
            "Epoch 170: 100%|██████████| 391/391 [04:32<00:00,  1.61it/s, acc=0.989, lr=3.20E-05, xentropy=0.035]\n"
          ],
          "name": "stderr"
        },
        {
          "output_type": "stream",
          "text": [
            "test_acc: 0.967\n"
          ],
          "name": "stdout"
        },
        {
          "output_type": "stream",
          "text": [
            "Epoch 171: 100%|██████████| 391/391 [04:34<00:00,  1.59it/s, acc=0.990, lr=3.20E-05, xentropy=0.033]\n",
            "  0%|          | 0/391 [00:00<?, ?it/s]"
          ],
          "name": "stderr"
        },
        {
          "output_type": "stream",
          "text": [
            "test_acc: 0.967\n"
          ],
          "name": "stdout"
        },
        {
          "output_type": "stream",
          "text": [
            "Epoch 172: 100%|██████████| 391/391 [04:32<00:00,  1.60it/s, acc=0.989, lr=3.20E-05, xentropy=0.034]\n",
            "  0%|          | 0/391 [00:00<?, ?it/s]"
          ],
          "name": "stderr"
        },
        {
          "output_type": "stream",
          "text": [
            "test_acc: 0.967\n"
          ],
          "name": "stdout"
        },
        {
          "output_type": "stream",
          "text": [
            "Epoch 173: 100%|██████████| 391/391 [04:33<00:00,  1.61it/s, acc=0.989, lr=3.20E-05, xentropy=0.034]\n",
            "  0%|          | 0/391 [00:00<?, ?it/s]"
          ],
          "name": "stderr"
        },
        {
          "output_type": "stream",
          "text": [
            "test_acc: 0.967\n"
          ],
          "name": "stdout"
        },
        {
          "output_type": "stream",
          "text": [
            "Epoch 174: 100%|██████████| 391/391 [04:33<00:00,  1.61it/s, acc=0.989, lr=3.20E-05, xentropy=0.035]\n"
          ],
          "name": "stderr"
        },
        {
          "output_type": "stream",
          "text": [
            "test_acc: 0.968\n"
          ],
          "name": "stdout"
        },
        {
          "output_type": "stream",
          "text": [
            "Epoch 175: 100%|██████████| 391/391 [04:34<00:00,  1.60it/s, acc=0.990, lr=3.20E-05, xentropy=0.034]\n",
            "  0%|          | 0/391 [00:00<?, ?it/s]"
          ],
          "name": "stderr"
        },
        {
          "output_type": "stream",
          "text": [
            "test_acc: 0.967\n"
          ],
          "name": "stdout"
        },
        {
          "output_type": "stream",
          "text": [
            "Epoch 176: 100%|██████████| 391/391 [04:34<00:00,  1.61it/s, acc=0.990, lr=3.20E-05, xentropy=0.033]\n",
            "  0%|          | 0/391 [00:00<?, ?it/s]"
          ],
          "name": "stderr"
        },
        {
          "output_type": "stream",
          "text": [
            "test_acc: 0.967\n"
          ],
          "name": "stdout"
        },
        {
          "output_type": "stream",
          "text": [
            "Epoch 177: 100%|██████████| 391/391 [04:33<00:00,  1.61it/s, acc=0.989, lr=3.20E-05, xentropy=0.035]\n",
            "  0%|          | 0/391 [00:00<?, ?it/s]"
          ],
          "name": "stderr"
        },
        {
          "output_type": "stream",
          "text": [
            "test_acc: 0.967\n"
          ],
          "name": "stdout"
        },
        {
          "output_type": "stream",
          "text": [
            "Epoch 178: 100%|██████████| 391/391 [04:33<00:00,  1.60it/s, acc=0.988, lr=3.20E-05, xentropy=0.038]\n",
            "  0%|          | 0/391 [00:00<?, ?it/s]"
          ],
          "name": "stderr"
        },
        {
          "output_type": "stream",
          "text": [
            "test_acc: 0.967\n"
          ],
          "name": "stdout"
        },
        {
          "output_type": "stream",
          "text": [
            "Epoch 179: 100%|██████████| 391/391 [04:34<00:00,  1.59it/s, acc=0.988, lr=3.20E-05, xentropy=0.038]\n",
            "  0%|          | 0/391 [00:00<?, ?it/s]"
          ],
          "name": "stderr"
        },
        {
          "output_type": "stream",
          "text": [
            "test_acc: 0.966\n"
          ],
          "name": "stdout"
        },
        {
          "output_type": "stream",
          "text": [
            "Epoch 180: 100%|██████████| 391/391 [04:33<00:00,  1.60it/s, acc=0.987, lr=3.20E-05, xentropy=0.038]\n"
          ],
          "name": "stderr"
        },
        {
          "output_type": "stream",
          "text": [
            "test_acc: 0.966\n"
          ],
          "name": "stdout"
        },
        {
          "output_type": "stream",
          "text": [
            "Epoch 181: 100%|██████████| 391/391 [04:34<00:00,  1.60it/s, acc=0.988, lr=3.20E-05, xentropy=0.037]\n",
            "  0%|          | 0/391 [00:00<?, ?it/s]"
          ],
          "name": "stderr"
        },
        {
          "output_type": "stream",
          "text": [
            "test_acc: 0.967\n"
          ],
          "name": "stdout"
        },
        {
          "output_type": "stream",
          "text": [
            "Epoch 182:  24%|██▎       | 92/391 [01:04<03:28,  1.43it/s, acc=0.990, lr=3.20E-05, xentropy=0.030]"
          ],
          "name": "stderr"
        },
        {
          "output_type": "error",
          "ename": "KeyboardInterrupt",
          "evalue": "ignored",
          "traceback": [
            "\u001b[0;31m---------------------------------------------------------------------------\u001b[0m",
            "\u001b[0;31mKeyboardInterrupt\u001b[0m                         Traceback (most recent call last)",
            "\u001b[0;32m<ipython-input-7-3ec9fe96c125>\u001b[0m in \u001b[0;36m<module>\u001b[0;34m()\u001b[0m\n\u001b[1;32m     92\u001b[0m         \u001b[0moptimizer\u001b[0m\u001b[0;34m.\u001b[0m\u001b[0mstep\u001b[0m\u001b[0;34m(\u001b[0m\u001b[0;34m)\u001b[0m\u001b[0;34m\u001b[0m\u001b[0;34m\u001b[0m\u001b[0m\n\u001b[1;32m     93\u001b[0m \u001b[0;34m\u001b[0m\u001b[0m\n\u001b[0;32m---> 94\u001b[0;31m         \u001b[0mxentropy_loss_avg\u001b[0m \u001b[0;34m+=\u001b[0m \u001b[0mxentropy_loss\u001b[0m\u001b[0;34m.\u001b[0m\u001b[0mitem\u001b[0m\u001b[0;34m(\u001b[0m\u001b[0;34m)\u001b[0m\u001b[0;34m\u001b[0m\u001b[0;34m\u001b[0m\u001b[0m\n\u001b[0m\u001b[1;32m     95\u001b[0m \u001b[0;34m\u001b[0m\u001b[0m\n\u001b[1;32m     96\u001b[0m         \u001b[0;31m# Calculate running average of accuracy\u001b[0m\u001b[0;34m\u001b[0m\u001b[0;34m\u001b[0m\u001b[0;34m\u001b[0m\u001b[0m\n",
            "\u001b[0;31mKeyboardInterrupt\u001b[0m: "
          ]
        }
      ]
    }
  ]
}