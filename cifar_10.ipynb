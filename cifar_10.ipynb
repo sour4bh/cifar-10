{
  "nbformat": 4,
  "nbformat_minor": 0,
  "metadata": {
    "colab": {
      "name": "cifar-10.ipynb",
      "provenance": [],
      "collapsed_sections": [],
      "mount_file_id": "1C0lRkyWgeBpXmCi0-osamgWyRAFm7iTv",
      "authorship_tag": "ABX9TyNA49LnwWs0gDGPFmdu7M6G",
      "include_colab_link": true
    },
    "kernelspec": {
      "name": "python3",
      "display_name": "Python 3"
    },
    "accelerator": "GPU"
  },
  "cells": [
    {
      "cell_type": "markdown",
      "metadata": {
        "id": "view-in-github",
        "colab_type": "text"
      },
      "source": [
        "<a href=\"https://colab.research.google.com/github/sour4bh/cifar-10/blob/master/cifar_10.ipynb\" target=\"_parent\"><img src=\"https://colab.research.google.com/assets/colab-badge.svg\" alt=\"Open In Colab\"/></a>"
      ]
    },
    {
      "cell_type": "code",
      "metadata": {
        "id": "N5PsgMjt71GZ",
        "colab_type": "code",
        "outputId": "2230d0c8-075e-4a3a-de7e-8e46c8b90054",
        "colab": {
          "base_uri": "https://localhost:8080/",
          "height": 119
        }
      },
      "source": [
        "!git clone https://github.com/sour4bh/cifar-10\n",
        "!mv cifar-10/* .\n",
        "!mkdir logs epochs"
      ],
      "execution_count": 0,
      "outputs": [
        {
          "output_type": "stream",
          "text": [
            "Cloning into 'cifar-10'...\n",
            "remote: Enumerating objects: 43, done.\u001b[K\n",
            "remote: Counting objects:   2% (1/43)\u001b[K\rremote: Counting objects:   4% (2/43)\u001b[K\rremote: Counting objects:   6% (3/43)\u001b[K\rremote: Counting objects:   9% (4/43)\u001b[K\rremote: Counting objects:  11% (5/43)\u001b[K\rremote: Counting objects:  13% (6/43)\u001b[K\rremote: Counting objects:  16% (7/43)\u001b[K\rremote: Counting objects:  18% (8/43)\u001b[K\rremote: Counting objects:  20% (9/43)\u001b[K\rremote: Counting objects:  23% (10/43)\u001b[K\rremote: Counting objects:  25% (11/43)\u001b[K\rremote: Counting objects:  27% (12/43)\u001b[K\rremote: Counting objects:  30% (13/43)\u001b[K\rremote: Counting objects:  32% (14/43)\u001b[K\rremote: Counting objects:  34% (15/43)\u001b[K\rremote: Counting objects:  37% (16/43)\u001b[K\rremote: Counting objects:  39% (17/43)\u001b[K\rremote: Counting objects:  41% (18/43)\u001b[K\rremote: Counting objects:  44% (19/43)\u001b[K\rremote: Counting objects:  46% (20/43)\u001b[K\rremote: Counting objects:  48% (21/43)\u001b[K\rremote: Counting objects:  51% (22/43)\u001b[K\rremote: Counting objects:  53% (23/43)\u001b[K\rremote: Counting objects:  55% (24/43)\u001b[K\rremote: Counting objects:  58% (25/43)\u001b[K\rremote: Counting objects:  60% (26/43)\u001b[K\rremote: Counting objects:  62% (27/43)\u001b[K\rremote: Counting objects:  65% (28/43)\u001b[K\rremote: Counting objects:  67% (29/43)\u001b[K\rremote: Counting objects:  69% (30/43)\u001b[K\rremote: Counting objects:  72% (31/43)\u001b[K\rremote: Counting objects:  74% (32/43)\u001b[K\rremote: Counting objects:  76% (33/43)\u001b[K\rremote: Counting objects:  79% (34/43)\u001b[K\rremote: Counting objects:  81% (35/43)\u001b[K\rremote: Counting objects:  83% (36/43)\u001b[K\rremote: Counting objects:  86% (37/43)\u001b[K\rremote: Counting objects:  88% (38/43)\u001b[K\rremote: Counting objects:  90% (39/43)\u001b[K\rremote: Counting objects:  93% (40/43)\u001b[K\rremote: Counting objects:  95% (41/43)\u001b[K\rremote: Counting objects:  97% (42/43)\u001b[K\rremote: Counting objects: 100% (43/43)\u001b[K\rremote: Counting objects: 100% (43/43), done.\u001b[K\n",
            "remote: Compressing objects:   3% (1/33)\u001b[K\rremote: Compressing objects:   6% (2/33)\u001b[K\rremote: Compressing objects:   9% (3/33)\u001b[K\rremote: Compressing objects:  12% (4/33)\u001b[K\rremote: Compressing objects:  15% (5/33)\u001b[K\rremote: Compressing objects:  18% (6/33)\u001b[K\rremote: Compressing objects:  21% (7/33)\u001b[K\rremote: Compressing objects:  24% (8/33)\u001b[K\rremote: Compressing objects:  27% (9/33)\u001b[K\rremote: Compressing objects:  30% (10/33)\u001b[K\rremote: Compressing objects:  33% (11/33)\u001b[K\rremote: Compressing objects:  36% (12/33)\u001b[K\rremote: Compressing objects:  39% (13/33)\u001b[K\rremote: Compressing objects:  42% (14/33)\u001b[K\rremote: Compressing objects:  45% (15/33)\u001b[K\rremote: Compressing objects:  48% (16/33)\u001b[K\rremote: Compressing objects:  51% (17/33)\u001b[K\rremote: Compressing objects:  54% (18/33)\u001b[K\rremote: Compressing objects:  57% (19/33)\u001b[K\rremote: Compressing objects:  60% (20/33)\u001b[K\rremote: Compressing objects:  63% (21/33)\u001b[K\rremote: Compressing objects:  66% (22/33)\u001b[K\rremote: Compressing objects:  69% (23/33)\u001b[K\rremote: Compressing objects:  72% (24/33)\u001b[K\rremote: Compressing objects:  75% (25/33)\u001b[K\rremote: Compressing objects:  78% (26/33)\u001b[K\rremote: Compressing objects:  81% (27/33)\u001b[K\rremote: Compressing objects:  84% (28/33)\u001b[K\rremote: Compressing objects:  87% (29/33)\u001b[K\rremote: Compressing objects:  90% (30/33)\u001b[K\rremote: Compressing objects:  93% (31/33)\u001b[K\rremote: Compressing objects:  96% (32/33)\u001b[K\rremote: Compressing objects: 100% (33/33)\u001b[K\rremote: Compressing objects: 100% (33/33), done.\u001b[K\n",
            "Unpacking objects:   2% (1/43)   \rUnpacking objects:   4% (2/43)   \rUnpacking objects:   6% (3/43)   \rUnpacking objects:   9% (4/43)   \rUnpacking objects:  11% (5/43)   \rUnpacking objects:  13% (6/43)   \rUnpacking objects:  16% (7/43)   \rUnpacking objects:  18% (8/43)   \rUnpacking objects:  20% (9/43)   \rUnpacking objects:  23% (10/43)   \rUnpacking objects:  25% (11/43)   \rUnpacking objects:  27% (12/43)   \rUnpacking objects:  30% (13/43)   \rUnpacking objects:  32% (14/43)   \rUnpacking objects:  34% (15/43)   \rUnpacking objects:  37% (16/43)   \rUnpacking objects:  39% (17/43)   \rUnpacking objects:  41% (18/43)   \rUnpacking objects:  44% (19/43)   \rUnpacking objects:  46% (20/43)   \rUnpacking objects:  48% (21/43)   \rUnpacking objects:  51% (22/43)   \rUnpacking objects:  53% (23/43)   \rUnpacking objects:  55% (24/43)   \rUnpacking objects:  58% (25/43)   \rremote: Total 43 (delta 12), reused 33 (delta 5), pack-reused 0\u001b[K\n",
            "Unpacking objects:  60% (26/43)   \rUnpacking objects:  62% (27/43)   \rUnpacking objects:  65% (28/43)   \rUnpacking objects:  67% (29/43)   \rUnpacking objects:  69% (30/43)   \rUnpacking objects:  72% (31/43)   \rUnpacking objects:  74% (32/43)   \rUnpacking objects:  76% (33/43)   \rUnpacking objects:  79% (34/43)   \rUnpacking objects:  81% (35/43)   \rUnpacking objects:  83% (36/43)   \rUnpacking objects:  86% (37/43)   \rUnpacking objects:  88% (38/43)   \rUnpacking objects:  90% (39/43)   \rUnpacking objects:  93% (40/43)   \rUnpacking objects:  95% (41/43)   \rUnpacking objects:  97% (42/43)   \rUnpacking objects: 100% (43/43)   \rUnpacking objects: 100% (43/43), done.\n"
          ],
          "name": "stdout"
        }
      ]
    },
    {
      "cell_type": "code",
      "metadata": {
        "id": "3U0dDAOO-hyi",
        "colab_type": "code",
        "outputId": "f93f5aa7-3ebb-4184-a770-b32e14b4dddd",
        "colab": {
          "base_uri": "https://localhost:8080/",
          "height": 139
        }
      },
      "source": [
        "from google.colab import drive\n",
        "drive.mount('/gdrive')\n",
        "%cd /gdrive"
      ],
      "execution_count": 0,
      "outputs": [
        {
          "output_type": "stream",
          "text": [
            "Go to this URL in a browser: https://accounts.google.com/o/oauth2/auth?client_id=947318989803-6bn6qk8qdgf4n4g3pfee6491hc0brc4i.apps.googleusercontent.com&redirect_uri=urn%3aietf%3awg%3aoauth%3a2.0%3aoob&response_type=code&scope=email%20https%3a%2f%2fwww.googleapis.com%2fauth%2fdocs.test%20https%3a%2f%2fwww.googleapis.com%2fauth%2fdrive%20https%3a%2f%2fwww.googleapis.com%2fauth%2fdrive.photos.readonly%20https%3a%2f%2fwww.googleapis.com%2fauth%2fpeopleapi.readonly\n",
            "\n",
            "Enter your authorization code:\n",
            "··········\n",
            "Mounted at /gdrive\n",
            "/gdrive\n"
          ],
          "name": "stdout"
        }
      ]
    },
    {
      "cell_type": "code",
      "metadata": {
        "id": "Lc2Msic07ze5",
        "colab_type": "code",
        "colab": {}
      },
      "source": [
        "# imports \n",
        "import os\n",
        "import numpy as np\n",
        "from tqdm import tqdm\n",
        "\n",
        "import torch\n",
        "import torch.nn as nn\n",
        "from torch.autograd import Variable\n",
        "import torch.backends.cudnn as cudnn\n",
        "from torch.optim.lr_scheduler import MultiStepLR\n",
        "\n",
        "from torchvision import datasets, transforms\n",
        "\n",
        "from cutout import Cutout\n",
        "from wide_resnet import WideResNet"
      ],
      "execution_count": 0,
      "outputs": []
    },
    {
      "cell_type": "code",
      "metadata": {
        "id": "vh_iuzB4NrOb",
        "colab_type": "code",
        "colab": {}
      },
      "source": [
        "# Control center\n",
        "\n",
        "num_classes = 10\n",
        "batch_size = 128\n",
        "epochs = 200\n",
        "seed = 0\n",
        "\n",
        "LR_MILESTONES = [40, 60, 80, 90] # step down lr milestones\n",
        "gamma = 0.2 #gamma for step lr 0.2 == 5x \n",
        "learning_rate = 0.1\n",
        "\n",
        "\n",
        "data_augmentation = True\n",
        "# cutout hyperparams\n",
        "n_holes = 1\n",
        "length = 16\n",
        "# model - wideresnet hyperparams\n",
        "depth = 28\n",
        "widen_factor = 10\n",
        "drop_rate = 0.3\n",
        "\n",
        "# recover training\n",
        "resume = True\n",
        "resume_checkpoint =  'cifar-10/cifar10_wideresnet60.pt'\n"
      ],
      "execution_count": 0,
      "outputs": []
    },
    {
      "cell_type": "code",
      "metadata": {
        "id": "Xu4j8K5_Nxnu",
        "colab_type": "code",
        "colab": {}
      },
      "source": [
        "def save_this(epoch, test_acc, accuracy, model, optimizer, scheduler, on_drive=True):\n",
        "    checkpoint = {\n",
        "    'epoch': epoch,\n",
        "    'test_acc' : test_acc,\n",
        "    'train_acc' : accuracy,\n",
        "    'state_dict': model.state_dict(),\n",
        "    'optimizer': optimizer.state_dict(),    \n",
        "    'scheduler' : scheduler.state_dict()}\n",
        "    if on_drive:\n",
        "        # save checkpoints to google drive \n",
        "        torch.save(checkpoint, '/content/drive/My Drive/Colab Notebooks/checkpoints/' + test_id + f'{epoch}.pt')\n",
        "    else:\n",
        "        # save checkpoints to local \n",
        "        torch.save(checkpoint, 'epochs/' +  test_id +  f'{epoch}.pt')\n",
        "\n",
        "def test(loader):\n",
        "    model.eval()   \n",
        "    correct = 0.\n",
        "    total = 0.\n",
        "    for images, labels in loader:\n",
        "        images = images.cuda()\n",
        "        labels = labels.cuda()\n",
        "\n",
        "        with torch.no_grad():\n",
        "            pred = model(images)\n",
        "\n",
        "        pred = torch.max(pred.data, 1)[1]\n",
        "        total += labels.size(0)\n",
        "        correct += (pred == labels).sum().item()\n",
        "\n",
        "    val_acc = correct / total\n",
        "    model.train()\n",
        "    return val_acc\n"
      ],
      "execution_count": 0,
      "outputs": []
    },
    {
      "cell_type": "code",
      "metadata": {
        "id": "cqTurx_lN16U",
        "colab_type": "code",
        "outputId": "dc542d00-fb0b-4164-9ec7-629e0595be81",
        "colab": {
          "base_uri": "https://localhost:8080/",
          "height": 1000
        }
      },
      "source": [
        "cuda = True\n",
        "cudnn.benchmark = True \n",
        "torch.manual_seed(seed)\n",
        "if cuda:\n",
        "    torch.cuda.manual_seed(seed)\n",
        "\n",
        "test_id = 'cifar10_wideresent'\n",
        "\n",
        "normalize = transforms.Normalize(mean=[x / 255.0 for x in [125.3, 123.0, 113.9]],\n",
        "                                    std=[x / 255.0 for x in [63.0, 62.1, 66.7]])\n",
        "\n",
        "train_transform = transforms.Compose([])\n",
        "if data_augmentation:\n",
        "    train_transform.transforms.append(transforms.RandomCrop(32, padding=4))\n",
        "    train_transform.transforms.append(transforms.RandomHorizontalFlip())\n",
        "train_transform.transforms.append(transforms.ToTensor())\n",
        "train_transform.transforms.append(normalize)\n",
        "\n",
        "train_transform.transforms.append(Cutout(n_holes=n_holes, length=length)) # cutout augemntation \n",
        "\n",
        "test_transform = transforms.Compose([\n",
        "    transforms.ToTensor(),\n",
        "    normalize])\n",
        "\n",
        "train_dataset = datasets.CIFAR10(root='data/',\n",
        "                                    train=True,\n",
        "                                    transform=train_transform,\n",
        "                                    download=True)\n",
        "\n",
        "test_dataset = datasets.CIFAR10(root='data/',\n",
        "                                train=False,\n",
        "                                transform=test_transform,\n",
        "                                download=True)\n",
        "\n",
        "\n",
        "train_loader = torch.utils.data.DataLoader(dataset=train_dataset,\n",
        "                                        batch_size=batch_size,\n",
        "                                        shuffle=True,\n",
        "                                        pin_memory=True,\n",
        "                                        num_workers=2)\n",
        "\n",
        "test_loader = torch.utils.data.DataLoader(dataset=test_dataset,\n",
        "                                        batch_size=batch_size,\n",
        "                                        shuffle=False,\n",
        "                                        pin_memory=True,\n",
        "                                        num_workers=2)\n",
        "\n",
        "model = WideResNet(depth=depth, num_classes=num_classes, widen_factor=widen_factor, dropRate=drop_rate)\n",
        "model = model.cuda()\n",
        "criterion = nn.CrossEntropyLoss().cuda()\n",
        "optimizer = torch.optim.SGD(model.parameters(), lr=learning_rate, momentum=0.9, nesterov=True, weight_decay=0.0005)\n",
        "\n",
        "scheduler = MultiStepLR(optimizer, milestones=LR_MILESTONES, gamma=gamma)\n",
        "\n",
        "begin = -1\n",
        "try:\n",
        "    checkpoint_fpath =  resume_checkpoint\n",
        "    checkpoint = torch.load(checkpoint_fpath)\n",
        "    model.load_state_dict(checkpoint['state_dict'])\n",
        "    optimizer.load_state_dict(checkpoint['optimizer'])\n",
        "    begin = checkpoint['epoch']\n",
        "    scheduler = MultiStepLR(optimizer, milestones=LR_MILESTONES, gamma=gamma, last_epoch=begin)\n",
        "    # print('test_acc :', checkpoint['test_acc'], 'train_acc :', checkpoint['train_acc'])\n",
        "    # print('last_lr :', checkpoint['scheduler']['_last_lr'])\n",
        "    print('resuming from', checkpoint['epoch'])\n",
        "except FileNotFoundError:\n",
        "    # print('starting over..')\n",
        "    pass\n",
        "\n",
        "best_acc = 0\n",
        "for epoch in range(epochs):\n",
        "    if epoch <= begin:\n",
        "        # scheduler.step()\n",
        "        continue\n",
        "    \n",
        "    xentropy_loss_avg = 0.\n",
        "    correct = 0.\n",
        "    total = 0.\n",
        "\n",
        "    progress_bar = tqdm(train_loader)\n",
        "    for i, (images, labels) in enumerate(progress_bar):\n",
        "        progress_bar.set_description('Epoch ' + str(epoch))\n",
        "\n",
        "        images = images.cuda()\n",
        "        labels = labels.cuda()\n",
        "\n",
        "        model.zero_grad()\n",
        "        pred = model(images)\n",
        "\n",
        "        xentropy_loss = criterion(pred, labels)\n",
        "        xentropy_loss.backward()\n",
        "        optimizer.step()\n",
        "\n",
        "        xentropy_loss_avg += xentropy_loss.item()\n",
        "\n",
        "        # Calculate running average of accuracy\n",
        "        pred = torch.max(pred.data, 1)[1]\n",
        "        total += labels.size(0)\n",
        "        correct += (pred == labels.data).sum().item()\n",
        "        accuracy = correct / total\n",
        "        _lr=optimizer.param_groups[0][\"lr\"]\n",
        "\n",
        "        progress_bar.set_postfix(\n",
        "            xentropy='%.3f' % (xentropy_loss_avg / (i + 1)),\n",
        "            acc='%.3f' %(accuracy),\n",
        "            lr='%.2E'%(_lr))\n",
        "\n",
        "    test_acc = test(test_loader)\n",
        "    tqdm.write('test_acc: %.3f' % (test_acc))\n",
        "\n",
        "    if test_acc > best_acc:\n",
        "        best_acc = test_acc\n",
        "        save_this(epoch, test_acc, accuracy, model, optimizer, scheduler, on_drive=False)\n",
        "    \n",
        "    if epoch % 10 == 0:\n",
        "        save_this(epoch, test_acc, accuracy, model, optimizer, scheduler, on_drive=True)\n",
        "    \n",
        "    _lr = optimizer.param_groups[0][\"lr\"]\n",
        "    with open('log.csv', 'a') as f:\n",
        "        f.write(f\"epoch: {str(epoch)}, train_acc: {str(accuracy)}, test_acc: {str(test_acc)}, lr:{'%.2E'%(_lr)}\" + '\\n')\n",
        "    \n",
        "    scheduler.step()\n",
        "    # end loop"
      ],
      "execution_count": 0,
      "outputs": [
        {
          "output_type": "stream",
          "text": [
            "Files already downloaded and verified\n",
            "Files already downloaded and verified\n"
          ],
          "name": "stdout"
        },
        {
          "output_type": "stream",
          "text": [
            "\r  0%|          | 0/391 [00:00<?, ?it/s]"
          ],
          "name": "stderr"
        },
        {
          "output_type": "stream",
          "text": [
            "resuming from 60\n"
          ],
          "name": "stdout"
        },
        {
          "output_type": "stream",
          "text": [
            "Epoch 61: 100%|██████████| 391/391 [03:48<00:00,  1.07it/s, acc=0.919, lr=2.00E-02, xentropy=0.235]\n"
          ],
          "name": "stderr"
        },
        {
          "output_type": "stream",
          "text": [
            "test_acc: 0.936\n"
          ],
          "name": "stdout"
        },
        {
          "output_type": "stream",
          "text": [
            "Epoch 62: 100%|██████████| 391/391 [03:51<00:00,  1.90it/s, acc=0.924, lr=2.00E-02, xentropy=0.222]\n"
          ],
          "name": "stderr"
        },
        {
          "output_type": "stream",
          "text": [
            "test_acc: 0.937\n"
          ],
          "name": "stdout"
        },
        {
          "output_type": "stream",
          "text": [
            "Epoch 63: 100%|██████████| 391/391 [03:51<00:00,  1.89it/s, acc=0.925, lr=2.00E-02, xentropy=0.216]\n"
          ],
          "name": "stderr"
        },
        {
          "output_type": "stream",
          "text": [
            "test_acc: 0.941\n"
          ],
          "name": "stdout"
        },
        {
          "output_type": "stream",
          "text": [
            "Epoch 64: 100%|██████████| 391/391 [03:50<00:00,  1.89it/s, acc=0.927, lr=2.00E-02, xentropy=0.212]\n",
            "  0%|          | 0/391 [00:00<?, ?it/s]"
          ],
          "name": "stderr"
        },
        {
          "output_type": "stream",
          "text": [
            "test_acc: 0.938\n"
          ],
          "name": "stdout"
        },
        {
          "output_type": "stream",
          "text": [
            "Epoch 65: 100%|██████████| 391/391 [03:50<00:00,  1.90it/s, acc=0.930, lr=2.00E-02, xentropy=0.203]\n"
          ],
          "name": "stderr"
        },
        {
          "output_type": "stream",
          "text": [
            "test_acc: 0.944\n"
          ],
          "name": "stdout"
        },
        {
          "output_type": "stream",
          "text": [
            "Epoch 66: 100%|██████████| 391/391 [03:50<00:00,  1.91it/s, acc=0.928, lr=2.00E-02, xentropy=0.210]\n",
            "  0%|          | 0/391 [00:00<?, ?it/s]"
          ],
          "name": "stderr"
        },
        {
          "output_type": "stream",
          "text": [
            "test_acc: 0.942\n"
          ],
          "name": "stdout"
        },
        {
          "output_type": "stream",
          "text": [
            "Epoch 67: 100%|██████████| 391/391 [03:51<00:00,  1.90it/s, acc=0.928, lr=2.00E-02, xentropy=0.206]\n",
            "  0%|          | 0/391 [00:00<?, ?it/s]"
          ],
          "name": "stderr"
        },
        {
          "output_type": "stream",
          "text": [
            "test_acc: 0.930\n"
          ],
          "name": "stdout"
        },
        {
          "output_type": "stream",
          "text": [
            "Epoch 68: 100%|██████████| 391/391 [03:50<00:00,  1.89it/s, acc=0.929, lr=2.00E-02, xentropy=0.203]\n",
            "  0%|          | 0/391 [00:00<?, ?it/s]"
          ],
          "name": "stderr"
        },
        {
          "output_type": "stream",
          "text": [
            "test_acc: 0.939\n"
          ],
          "name": "stdout"
        },
        {
          "output_type": "stream",
          "text": [
            "Epoch 69: 100%|██████████| 391/391 [03:51<00:00,  1.90it/s, acc=0.930, lr=2.00E-02, xentropy=0.203]\n",
            "  0%|          | 0/391 [00:00<?, ?it/s]"
          ],
          "name": "stderr"
        },
        {
          "output_type": "stream",
          "text": [
            "test_acc: 0.934\n"
          ],
          "name": "stdout"
        },
        {
          "output_type": "stream",
          "text": [
            "Epoch 70: 100%|██████████| 391/391 [03:51<00:00,  1.89it/s, acc=0.929, lr=2.00E-02, xentropy=0.203]\n"
          ],
          "name": "stderr"
        },
        {
          "output_type": "stream",
          "text": [
            "test_acc: 0.929\n"
          ],
          "name": "stdout"
        },
        {
          "output_type": "stream",
          "text": [
            "Epoch 71: 100%|██████████| 391/391 [03:50<00:00,  1.89it/s, acc=0.930, lr=2.00E-02, xentropy=0.205]\n",
            "  0%|          | 0/391 [00:00<?, ?it/s]"
          ],
          "name": "stderr"
        },
        {
          "output_type": "stream",
          "text": [
            "test_acc: 0.929\n"
          ],
          "name": "stdout"
        },
        {
          "output_type": "stream",
          "text": [
            "Epoch 72: 100%|██████████| 391/391 [03:51<00:00,  1.90it/s, acc=0.928, lr=2.00E-02, xentropy=0.204]\n",
            "  0%|          | 0/391 [00:00<?, ?it/s]"
          ],
          "name": "stderr"
        },
        {
          "output_type": "stream",
          "text": [
            "test_acc: 0.931\n"
          ],
          "name": "stdout"
        },
        {
          "output_type": "stream",
          "text": [
            "Epoch 73: 100%|██████████| 391/391 [03:51<00:00,  1.89it/s, acc=0.928, lr=2.00E-02, xentropy=0.205]\n",
            "  0%|          | 0/391 [00:00<?, ?it/s]"
          ],
          "name": "stderr"
        },
        {
          "output_type": "stream",
          "text": [
            "test_acc: 0.938\n"
          ],
          "name": "stdout"
        },
        {
          "output_type": "stream",
          "text": [
            "Epoch 74: 100%|██████████| 391/391 [03:50<00:00,  1.90it/s, acc=0.929, lr=2.00E-02, xentropy=0.208]\n",
            "  0%|          | 0/391 [00:00<?, ?it/s]"
          ],
          "name": "stderr"
        },
        {
          "output_type": "stream",
          "text": [
            "test_acc: 0.939\n"
          ],
          "name": "stdout"
        },
        {
          "output_type": "stream",
          "text": [
            "Epoch 75: 100%|██████████| 391/391 [03:51<00:00,  1.90it/s, acc=0.927, lr=2.00E-02, xentropy=0.210]\n",
            "  0%|          | 0/391 [00:00<?, ?it/s]"
          ],
          "name": "stderr"
        },
        {
          "output_type": "stream",
          "text": [
            "test_acc: 0.938\n"
          ],
          "name": "stdout"
        },
        {
          "output_type": "stream",
          "text": [
            "Epoch 76: 100%|██████████| 391/391 [03:50<00:00,  1.90it/s, acc=0.930, lr=2.00E-02, xentropy=0.205]\n",
            "  0%|          | 0/391 [00:00<?, ?it/s]"
          ],
          "name": "stderr"
        },
        {
          "output_type": "stream",
          "text": [
            "test_acc: 0.926\n"
          ],
          "name": "stdout"
        },
        {
          "output_type": "stream",
          "text": [
            "Epoch 77: 100%|██████████| 391/391 [03:50<00:00,  1.90it/s, acc=0.927, lr=2.00E-02, xentropy=0.208]\n",
            "  0%|          | 0/391 [00:00<?, ?it/s]"
          ],
          "name": "stderr"
        },
        {
          "output_type": "stream",
          "text": [
            "test_acc: 0.938\n"
          ],
          "name": "stdout"
        },
        {
          "output_type": "stream",
          "text": [
            "Epoch 78: 100%|██████████| 391/391 [03:50<00:00,  1.90it/s, acc=0.929, lr=2.00E-02, xentropy=0.207]\n",
            "  0%|          | 0/391 [00:00<?, ?it/s]"
          ],
          "name": "stderr"
        },
        {
          "output_type": "stream",
          "text": [
            "test_acc: 0.931\n"
          ],
          "name": "stdout"
        },
        {
          "output_type": "stream",
          "text": [
            "Epoch 79: 100%|██████████| 391/391 [03:50<00:00,  1.91it/s, acc=0.929, lr=2.00E-02, xentropy=0.206]\n",
            "  0%|          | 0/391 [00:00<?, ?it/s]"
          ],
          "name": "stderr"
        },
        {
          "output_type": "stream",
          "text": [
            "test_acc: 0.935\n"
          ],
          "name": "stdout"
        },
        {
          "output_type": "stream",
          "text": [
            "Epoch 80: 100%|██████████| 391/391 [03:50<00:00,  1.89it/s, acc=0.953, lr=4.00E-03, xentropy=0.138]\n"
          ],
          "name": "stderr"
        },
        {
          "output_type": "stream",
          "text": [
            "test_acc: 0.956\n"
          ],
          "name": "stdout"
        },
        {
          "output_type": "stream",
          "text": [
            "Epoch 81: 100%|██████████| 391/391 [03:50<00:00,  1.90it/s, acc=0.962, lr=4.00E-03, xentropy=0.113]\n"
          ],
          "name": "stderr"
        },
        {
          "output_type": "stream",
          "text": [
            "test_acc: 0.957\n"
          ],
          "name": "stdout"
        },
        {
          "output_type": "stream",
          "text": [
            "Epoch 82: 100%|██████████| 391/391 [03:50<00:00,  1.90it/s, acc=0.963, lr=4.00E-03, xentropy=0.108]\n"
          ],
          "name": "stderr"
        },
        {
          "output_type": "stream",
          "text": [
            "test_acc: 0.959\n"
          ],
          "name": "stdout"
        },
        {
          "output_type": "stream",
          "text": [
            "Epoch 83: 100%|██████████| 391/391 [03:50<00:00,  1.91it/s, acc=0.967, lr=4.00E-03, xentropy=0.099]\n"
          ],
          "name": "stderr"
        },
        {
          "output_type": "stream",
          "text": [
            "test_acc: 0.960\n"
          ],
          "name": "stdout"
        },
        {
          "output_type": "stream",
          "text": [
            "Epoch 84: 100%|██████████| 391/391 [03:50<00:00,  1.90it/s, acc=0.967, lr=4.00E-03, xentropy=0.098]\n",
            "  0%|          | 0/391 [00:00<?, ?it/s]"
          ],
          "name": "stderr"
        },
        {
          "output_type": "stream",
          "text": [
            "test_acc: 0.959\n"
          ],
          "name": "stdout"
        },
        {
          "output_type": "stream",
          "text": [
            "Epoch 85: 100%|██████████| 391/391 [03:50<00:00,  1.90it/s, acc=0.968, lr=4.00E-03, xentropy=0.094]\n",
            "  0%|          | 0/391 [00:00<?, ?it/s]"
          ],
          "name": "stderr"
        },
        {
          "output_type": "stream",
          "text": [
            "test_acc: 0.958\n"
          ],
          "name": "stdout"
        },
        {
          "output_type": "stream",
          "text": [
            "Epoch 86: 100%|██████████| 391/391 [03:50<00:00,  1.90it/s, acc=0.969, lr=4.00E-03, xentropy=0.092]\n"
          ],
          "name": "stderr"
        },
        {
          "output_type": "stream",
          "text": [
            "test_acc: 0.961\n"
          ],
          "name": "stdout"
        },
        {
          "output_type": "stream",
          "text": [
            "Epoch 87: 100%|██████████| 391/391 [03:50<00:00,  1.91it/s, acc=0.970, lr=4.00E-03, xentropy=0.088]\n"
          ],
          "name": "stderr"
        },
        {
          "output_type": "stream",
          "text": [
            "test_acc: 0.961\n"
          ],
          "name": "stdout"
        },
        {
          "output_type": "stream",
          "text": [
            "Epoch 88: 100%|██████████| 391/391 [03:50<00:00,  1.91it/s, acc=0.971, lr=4.00E-03, xentropy=0.086]\n",
            "  0%|          | 0/391 [00:00<?, ?it/s]"
          ],
          "name": "stderr"
        },
        {
          "output_type": "stream",
          "text": [
            "test_acc: 0.960\n"
          ],
          "name": "stdout"
        },
        {
          "output_type": "stream",
          "text": [
            "Epoch 89: 100%|██████████| 391/391 [03:50<00:00,  1.89it/s, acc=0.972, lr=4.00E-03, xentropy=0.084]\n"
          ],
          "name": "stderr"
        },
        {
          "output_type": "stream",
          "text": [
            "test_acc: 0.962\n"
          ],
          "name": "stdout"
        },
        {
          "output_type": "stream",
          "text": [
            "Epoch 90: 100%|██████████| 391/391 [03:50<00:00,  1.91it/s, acc=0.975, lr=8.00E-04, xentropy=0.074]\n"
          ],
          "name": "stderr"
        },
        {
          "output_type": "stream",
          "text": [
            "test_acc: 0.964\n"
          ],
          "name": "stdout"
        },
        {
          "output_type": "stream",
          "text": [
            "Epoch 91: 100%|██████████| 391/391 [03:51<00:00,  1.89it/s, acc=0.976, lr=8.00E-04, xentropy=0.072]\n",
            "  0%|          | 0/391 [00:00<?, ?it/s]"
          ],
          "name": "stderr"
        },
        {
          "output_type": "stream",
          "text": [
            "test_acc: 0.964\n"
          ],
          "name": "stdout"
        },
        {
          "output_type": "stream",
          "text": [
            "Epoch 92: 100%|██████████| 391/391 [03:50<00:00,  1.90it/s, acc=0.976, lr=8.00E-04, xentropy=0.070]\n"
          ],
          "name": "stderr"
        },
        {
          "output_type": "stream",
          "text": [
            "test_acc: 0.965\n"
          ],
          "name": "stdout"
        },
        {
          "output_type": "stream",
          "text": [
            "Epoch 93: 100%|██████████| 391/391 [03:50<00:00,  1.91it/s, acc=0.978, lr=8.00E-04, xentropy=0.067]\n",
            "  0%|          | 0/391 [00:00<?, ?it/s]"
          ],
          "name": "stderr"
        },
        {
          "output_type": "stream",
          "text": [
            "test_acc: 0.965\n"
          ],
          "name": "stdout"
        },
        {
          "output_type": "stream",
          "text": [
            "Epoch 94: 100%|██████████| 391/391 [03:50<00:00,  1.91it/s, acc=0.977, lr=8.00E-04, xentropy=0.067]\n",
            "  0%|          | 0/391 [00:00<?, ?it/s]"
          ],
          "name": "stderr"
        },
        {
          "output_type": "stream",
          "text": [
            "test_acc: 0.965\n"
          ],
          "name": "stdout"
        },
        {
          "output_type": "stream",
          "text": [
            "Epoch 95: 100%|██████████| 391/391 [03:50<00:00,  1.90it/s, acc=0.978, lr=8.00E-04, xentropy=0.067]\n"
          ],
          "name": "stderr"
        },
        {
          "output_type": "stream",
          "text": [
            "test_acc: 0.966\n"
          ],
          "name": "stdout"
        },
        {
          "output_type": "stream",
          "text": [
            "Epoch 96: 100%|██████████| 391/391 [03:51<00:00,  1.89it/s, acc=0.978, lr=8.00E-04, xentropy=0.064]\n"
          ],
          "name": "stderr"
        },
        {
          "output_type": "stream",
          "text": [
            "test_acc: 0.967\n"
          ],
          "name": "stdout"
        },
        {
          "output_type": "stream",
          "text": [
            "Epoch 97: 100%|██████████| 391/391 [03:50<00:00,  1.91it/s, acc=0.979, lr=8.00E-04, xentropy=0.065]\n",
            "  0%|          | 0/391 [00:00<?, ?it/s]"
          ],
          "name": "stderr"
        },
        {
          "output_type": "stream",
          "text": [
            "test_acc: 0.967\n"
          ],
          "name": "stdout"
        },
        {
          "output_type": "stream",
          "text": [
            "Epoch 98: 100%|██████████| 391/391 [03:50<00:00,  1.90it/s, acc=0.979, lr=8.00E-04, xentropy=0.063]\n",
            "  0%|          | 0/391 [00:00<?, ?it/s]"
          ],
          "name": "stderr"
        },
        {
          "output_type": "stream",
          "text": [
            "test_acc: 0.965\n"
          ],
          "name": "stdout"
        },
        {
          "output_type": "stream",
          "text": [
            "Epoch 99: 100%|██████████| 391/391 [03:51<00:00,  1.90it/s, acc=0.979, lr=8.00E-04, xentropy=0.063]\n",
            "  0%|          | 0/391 [00:00<?, ?it/s]"
          ],
          "name": "stderr"
        },
        {
          "output_type": "stream",
          "text": [
            "test_acc: 0.965\n"
          ],
          "name": "stdout"
        },
        {
          "output_type": "stream",
          "text": [
            "Epoch 100: 100%|██████████| 391/391 [03:50<00:00,  1.91it/s, acc=0.979, lr=8.00E-04, xentropy=0.061]\n"
          ],
          "name": "stderr"
        },
        {
          "output_type": "stream",
          "text": [
            "test_acc: 0.965\n"
          ],
          "name": "stdout"
        },
        {
          "output_type": "stream",
          "text": [
            "Epoch 101: 100%|██████████| 391/391 [03:50<00:00,  1.90it/s, acc=0.979, lr=8.00E-04, xentropy=0.062]\n",
            "  0%|          | 0/391 [00:00<?, ?it/s]"
          ],
          "name": "stderr"
        },
        {
          "output_type": "stream",
          "text": [
            "test_acc: 0.967\n"
          ],
          "name": "stdout"
        },
        {
          "output_type": "stream",
          "text": [
            "Epoch 102: 100%|██████████| 391/391 [03:51<00:00,  1.91it/s, acc=0.981, lr=8.00E-04, xentropy=0.060]\n"
          ],
          "name": "stderr"
        },
        {
          "output_type": "stream",
          "text": [
            "test_acc: 0.967\n"
          ],
          "name": "stdout"
        },
        {
          "output_type": "stream",
          "text": [
            "Epoch 103: 100%|██████████| 391/391 [03:51<00:00,  1.89it/s, acc=0.980, lr=8.00E-04, xentropy=0.059]\n",
            "  0%|          | 0/391 [00:00<?, ?it/s]"
          ],
          "name": "stderr"
        },
        {
          "output_type": "stream",
          "text": [
            "test_acc: 0.966\n"
          ],
          "name": "stdout"
        },
        {
          "output_type": "stream",
          "text": [
            "Epoch 104: 100%|██████████| 391/391 [03:50<00:00,  1.90it/s, acc=0.981, lr=8.00E-04, xentropy=0.059]\n",
            "  0%|          | 0/391 [00:00<?, ?it/s]"
          ],
          "name": "stderr"
        },
        {
          "output_type": "stream",
          "text": [
            "test_acc: 0.966\n"
          ],
          "name": "stdout"
        },
        {
          "output_type": "stream",
          "text": [
            "Epoch 105: 100%|██████████| 391/391 [03:51<00:00,  1.90it/s, acc=0.980, lr=8.00E-04, xentropy=0.060]\n",
            "  0%|          | 0/391 [00:00<?, ?it/s]"
          ],
          "name": "stderr"
        },
        {
          "output_type": "stream",
          "text": [
            "test_acc: 0.965\n"
          ],
          "name": "stdout"
        },
        {
          "output_type": "stream",
          "text": [
            "Epoch 106: 100%|██████████| 391/391 [03:50<00:00,  1.91it/s, acc=0.981, lr=8.00E-04, xentropy=0.057]\n",
            "  0%|          | 0/391 [00:00<?, ?it/s]"
          ],
          "name": "stderr"
        },
        {
          "output_type": "stream",
          "text": [
            "test_acc: 0.965\n"
          ],
          "name": "stdout"
        },
        {
          "output_type": "stream",
          "text": [
            "Epoch 107: 100%|██████████| 391/391 [03:50<00:00,  1.89it/s, acc=0.981, lr=8.00E-04, xentropy=0.057]\n",
            "  0%|          | 0/391 [00:00<?, ?it/s]"
          ],
          "name": "stderr"
        },
        {
          "output_type": "stream",
          "text": [
            "test_acc: 0.965\n"
          ],
          "name": "stdout"
        },
        {
          "output_type": "stream",
          "text": [
            "Epoch 108: 100%|██████████| 391/391 [03:51<00:00,  1.91it/s, acc=0.982, lr=8.00E-04, xentropy=0.055]\n",
            "  0%|          | 0/391 [00:00<?, ?it/s]"
          ],
          "name": "stderr"
        },
        {
          "output_type": "stream",
          "text": [
            "test_acc: 0.965\n"
          ],
          "name": "stdout"
        },
        {
          "output_type": "stream",
          "text": [
            "Epoch 109: 100%|██████████| 391/391 [03:50<00:00,  1.89it/s, acc=0.982, lr=8.00E-04, xentropy=0.057]\n",
            "  0%|          | 0/391 [00:00<?, ?it/s]"
          ],
          "name": "stderr"
        },
        {
          "output_type": "stream",
          "text": [
            "test_acc: 0.966\n"
          ],
          "name": "stdout"
        },
        {
          "output_type": "stream",
          "text": [
            "Epoch 110: 100%|██████████| 391/391 [03:50<00:00,  1.91it/s, acc=0.981, lr=8.00E-04, xentropy=0.057]\n"
          ],
          "name": "stderr"
        },
        {
          "output_type": "stream",
          "text": [
            "test_acc: 0.966\n"
          ],
          "name": "stdout"
        },
        {
          "output_type": "stream",
          "text": [
            "Epoch 111: 100%|██████████| 391/391 [03:51<00:00,  1.90it/s, acc=0.982, lr=8.00E-04, xentropy=0.054]\n",
            "  0%|          | 0/391 [00:00<?, ?it/s]"
          ],
          "name": "stderr"
        },
        {
          "output_type": "stream",
          "text": [
            "test_acc: 0.965\n"
          ],
          "name": "stdout"
        },
        {
          "output_type": "stream",
          "text": [
            "Epoch 112: 100%|██████████| 391/391 [03:50<00:00,  1.90it/s, acc=0.982, lr=8.00E-04, xentropy=0.054]\n",
            "  0%|          | 0/391 [00:00<?, ?it/s]"
          ],
          "name": "stderr"
        },
        {
          "output_type": "stream",
          "text": [
            "test_acc: 0.966\n"
          ],
          "name": "stdout"
        },
        {
          "output_type": "stream",
          "text": [
            "Epoch 113: 100%|██████████| 391/391 [03:50<00:00,  1.91it/s, acc=0.984, lr=8.00E-04, xentropy=0.051]\n",
            "  0%|          | 0/391 [00:00<?, ?it/s]"
          ],
          "name": "stderr"
        },
        {
          "output_type": "stream",
          "text": [
            "test_acc: 0.965\n"
          ],
          "name": "stdout"
        },
        {
          "output_type": "stream",
          "text": [
            "Epoch 114: 100%|██████████| 391/391 [03:51<00:00,  1.89it/s, acc=0.983, lr=8.00E-04, xentropy=0.053]\n",
            "  0%|          | 0/391 [00:00<?, ?it/s]"
          ],
          "name": "stderr"
        },
        {
          "output_type": "stream",
          "text": [
            "test_acc: 0.966\n"
          ],
          "name": "stdout"
        },
        {
          "output_type": "stream",
          "text": [
            "Epoch 115: 100%|██████████| 391/391 [03:50<00:00,  1.90it/s, acc=0.983, lr=8.00E-04, xentropy=0.051]\n",
            "  0%|          | 0/391 [00:00<?, ?it/s]"
          ],
          "name": "stderr"
        },
        {
          "output_type": "stream",
          "text": [
            "test_acc: 0.965\n"
          ],
          "name": "stdout"
        },
        {
          "output_type": "stream",
          "text": [
            "Epoch 116: 100%|██████████| 391/391 [03:51<00:00,  1.89it/s, acc=0.982, lr=8.00E-04, xentropy=0.054]\n",
            "  0%|          | 0/391 [00:00<?, ?it/s]"
          ],
          "name": "stderr"
        },
        {
          "output_type": "stream",
          "text": [
            "test_acc: 0.966\n"
          ],
          "name": "stdout"
        },
        {
          "output_type": "stream",
          "text": [
            "Epoch 117: 100%|██████████| 391/391 [03:50<00:00,  1.90it/s, acc=0.983, lr=8.00E-04, xentropy=0.051]\n",
            "  0%|          | 0/391 [00:00<?, ?it/s]"
          ],
          "name": "stderr"
        },
        {
          "output_type": "stream",
          "text": [
            "test_acc: 0.965\n"
          ],
          "name": "stdout"
        },
        {
          "output_type": "stream",
          "text": [
            "Epoch 118: 100%|██████████| 391/391 [03:50<00:00,  1.90it/s, acc=0.982, lr=8.00E-04, xentropy=0.054]\n",
            "  0%|          | 0/391 [00:00<?, ?it/s]"
          ],
          "name": "stderr"
        },
        {
          "output_type": "stream",
          "text": [
            "test_acc: 0.965\n"
          ],
          "name": "stdout"
        },
        {
          "output_type": "stream",
          "text": [
            "Epoch 119:  68%|██████▊   | 264/391 [02:35<01:14,  1.70it/s, acc=0.984, lr=8.00E-04, xentropy=0.050]"
          ],
          "name": "stderr"
        },
        {
          "output_type": "stream",
          "text": [
            "Buffered data was truncated after reaching the output size limit."
          ],
          "name": "stdout"
        }
      ]
    },
    {
      "cell_type": "code",
      "metadata": {
        "id": "Vq2JReHI-TCM",
        "colab_type": "code",
        "colab": {}
      },
      "source": [
        ""
      ],
      "execution_count": 0,
      "outputs": []
    }
  ]
}